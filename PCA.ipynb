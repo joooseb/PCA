{
  "nbformat": 4,
  "nbformat_minor": 0,
  "metadata": {
    "colab": {
      "name": "PCA.ipynb",
      "provenance": [],
      "include_colab_link": true
    },
    "kernelspec": {
      "name": "python3",
      "display_name": "Python 3"
    }
  },
  "cells": [
    {
      "cell_type": "markdown",
      "metadata": {
        "id": "view-in-github",
        "colab_type": "text"
      },
      "source": [
        "<a href=\"https://colab.research.google.com/github/joooseb/PCA/blob/main/PCA.ipynb\" target=\"_parent\"><img src=\"https://colab.research.google.com/assets/colab-badge.svg\" alt=\"Open In Colab\"/></a>"
      ]
    },
    {
      "cell_type": "code",
      "metadata": {
        "id": "uhrCI7WkK1sr"
      },
      "source": [
        "import numpy as np\r\n",
        "import pandas as pd\r\n",
        "import matplotlib.pyplot as plt\r\n",
        "import seaborn as sn\r\n",
        "from sklearn.decomposition import PCA\r\n",
        "from sklearn.preprocessing import StandardScaler\r\n",
        "%matplotlib inline"
      ],
      "execution_count": null,
      "outputs": []
    },
    {
      "cell_type": "code",
      "metadata": {
        "id": "wiYoEe_6K-5W"
      },
      "source": [
        "from pydrive.auth import GoogleAuth \r\n",
        "from pydrive.drive import GoogleDrive\r\n",
        "from google.colab import auth\r\n",
        "from oauth2client.client import GoogleCredentials\r\n",
        "auth.authenticate_user()\r\n",
        "gauth = GoogleAuth()\r\n",
        "gauth.credentials = GoogleCredentials.get_application_default()\r\n",
        "drive = GoogleDrive(gauth)"
      ],
      "execution_count": null,
      "outputs": []
    },
    {
      "cell_type": "code",
      "metadata": {
        "id": "LIFSpsl5LBnA"
      },
      "source": [
        "import logging\r\n",
        "logging.getLogger('googleapiclient.discovery_cache').setLevel(logging.ERROR)"
      ],
      "execution_count": null,
      "outputs": []
    },
    {
      "cell_type": "code",
      "metadata": {
        "colab": {
          "base_uri": "https://localhost:8080/"
        },
        "id": "LebvHAt1LI1c",
        "outputId": "a77a44fa-764a-4525-9f2c-d742966f6d61"
      },
      "source": [
        "file_list = drive.ListFile({'q': \"'1SNU__J3t8vBU66wR-TVJwWDSeB-QZk2K' in parents and trashed=false\"}).GetList()\r\n",
        "for file1 in file_list:\r\n",
        "  print('title: %s, id: %s' % (file1['title'], file1['id']))"
      ],
      "execution_count": null,
      "outputs": [
        {
          "output_type": "stream",
          "text": [
            "title: PCA.ipynb, id: 1_OGmH-OhO8QBA-QORevVxqiFVwJP-GpF\n",
            "title: EjercicioPCA.xlsx, id: 1DXVZHCne4Qj4pUxi9Qjc5OIq-YLK7W2y\n"
          ],
          "name": "stdout"
        }
      ]
    },
    {
      "cell_type": "code",
      "metadata": {
        "id": "1QCKm1vzLKDz"
      },
      "source": [
        "data_downloaded = drive.CreateFile({'id': '1DXVZHCne4Qj4pUxi9Qjc5OIq-YLK7W2y'})\r\n",
        "data_downloaded.GetContentFile('EjercicioPCA.xlsx')"
      ],
      "execution_count": null,
      "outputs": []
    },
    {
      "cell_type": "code",
      "metadata": {
        "id": "rgJWXBd6LlQV"
      },
      "source": [
        "df = pd.read_excel('EjercicioPCA.xlsx')"
      ],
      "execution_count": null,
      "outputs": []
    },
    {
      "cell_type": "code",
      "metadata": {
        "colab": {
          "base_uri": "https://localhost:8080/",
          "height": 204
        },
        "id": "aB96M27dLrIT",
        "outputId": "66299168-57d2-476d-be4e-2f06b4438ec6"
      },
      "source": [
        "df.head()"
      ],
      "execution_count": null,
      "outputs": [
        {
          "output_type": "execute_result",
          "data": {
            "text/html": [
              "<div>\n",
              "<style scoped>\n",
              "    .dataframe tbody tr th:only-of-type {\n",
              "        vertical-align: middle;\n",
              "    }\n",
              "\n",
              "    .dataframe tbody tr th {\n",
              "        vertical-align: top;\n",
              "    }\n",
              "\n",
              "    .dataframe thead th {\n",
              "        text-align: right;\n",
              "    }\n",
              "</style>\n",
              "<table border=\"1\" class=\"dataframe\">\n",
              "  <thead>\n",
              "    <tr style=\"text-align: right;\">\n",
              "      <th></th>\n",
              "      <th>Muestars</th>\n",
              "      <th>B</th>\n",
              "      <th>Pb</th>\n",
              "      <th>Cu</th>\n",
              "      <th>Zn</th>\n",
              "    </tr>\n",
              "  </thead>\n",
              "  <tbody>\n",
              "    <tr>\n",
              "      <th>0</th>\n",
              "      <td>1</td>\n",
              "      <td>58</td>\n",
              "      <td>129</td>\n",
              "      <td>26</td>\n",
              "      <td>16</td>\n",
              "    </tr>\n",
              "    <tr>\n",
              "      <th>1</th>\n",
              "      <td>2</td>\n",
              "      <td>52</td>\n",
              "      <td>126</td>\n",
              "      <td>27</td>\n",
              "      <td>18</td>\n",
              "    </tr>\n",
              "    <tr>\n",
              "      <th>2</th>\n",
              "      <td>3</td>\n",
              "      <td>50</td>\n",
              "      <td>122</td>\n",
              "      <td>28</td>\n",
              "      <td>22</td>\n",
              "    </tr>\n",
              "    <tr>\n",
              "      <th>3</th>\n",
              "      <td>4</td>\n",
              "      <td>52</td>\n",
              "      <td>123</td>\n",
              "      <td>29</td>\n",
              "      <td>18</td>\n",
              "    </tr>\n",
              "    <tr>\n",
              "      <th>4</th>\n",
              "      <td>5</td>\n",
              "      <td>60</td>\n",
              "      <td>138</td>\n",
              "      <td>33</td>\n",
              "      <td>17</td>\n",
              "    </tr>\n",
              "  </tbody>\n",
              "</table>\n",
              "</div>"
            ],
            "text/plain": [
              "   Muestars   B   Pb  Cu  Zn\n",
              "0         1  58  129  26  16\n",
              "1         2  52  126  27  18\n",
              "2         3  50  122  28  22\n",
              "3         4  52  123  29  18\n",
              "4         5  60  138  33  17"
            ]
          },
          "metadata": {
            "tags": []
          },
          "execution_count": 7
        }
      ]
    },
    {
      "cell_type": "code",
      "metadata": {
        "id": "ys-Bmc3tLu5i"
      },
      "source": [
        "df.drop(columns=['Muestars'], inplace=True)"
      ],
      "execution_count": null,
      "outputs": []
    },
    {
      "cell_type": "code",
      "metadata": {
        "colab": {
          "base_uri": "https://localhost:8080/",
          "height": 204
        },
        "id": "jrJyKDIdL4ab",
        "outputId": "550cfc0e-8d1f-4207-9a5e-3e2fbb9500fb"
      },
      "source": [
        "df.head()"
      ],
      "execution_count": null,
      "outputs": [
        {
          "output_type": "execute_result",
          "data": {
            "text/html": [
              "<div>\n",
              "<style scoped>\n",
              "    .dataframe tbody tr th:only-of-type {\n",
              "        vertical-align: middle;\n",
              "    }\n",
              "\n",
              "    .dataframe tbody tr th {\n",
              "        vertical-align: top;\n",
              "    }\n",
              "\n",
              "    .dataframe thead th {\n",
              "        text-align: right;\n",
              "    }\n",
              "</style>\n",
              "<table border=\"1\" class=\"dataframe\">\n",
              "  <thead>\n",
              "    <tr style=\"text-align: right;\">\n",
              "      <th></th>\n",
              "      <th>B</th>\n",
              "      <th>Pb</th>\n",
              "      <th>Cu</th>\n",
              "      <th>Zn</th>\n",
              "    </tr>\n",
              "  </thead>\n",
              "  <tbody>\n",
              "    <tr>\n",
              "      <th>0</th>\n",
              "      <td>58</td>\n",
              "      <td>129</td>\n",
              "      <td>26</td>\n",
              "      <td>16</td>\n",
              "    </tr>\n",
              "    <tr>\n",
              "      <th>1</th>\n",
              "      <td>52</td>\n",
              "      <td>126</td>\n",
              "      <td>27</td>\n",
              "      <td>18</td>\n",
              "    </tr>\n",
              "    <tr>\n",
              "      <th>2</th>\n",
              "      <td>50</td>\n",
              "      <td>122</td>\n",
              "      <td>28</td>\n",
              "      <td>22</td>\n",
              "    </tr>\n",
              "    <tr>\n",
              "      <th>3</th>\n",
              "      <td>52</td>\n",
              "      <td>123</td>\n",
              "      <td>29</td>\n",
              "      <td>18</td>\n",
              "    </tr>\n",
              "    <tr>\n",
              "      <th>4</th>\n",
              "      <td>60</td>\n",
              "      <td>138</td>\n",
              "      <td>33</td>\n",
              "      <td>17</td>\n",
              "    </tr>\n",
              "  </tbody>\n",
              "</table>\n",
              "</div>"
            ],
            "text/plain": [
              "    B   Pb  Cu  Zn\n",
              "0  58  129  26  16\n",
              "1  52  126  27  18\n",
              "2  50  122  28  22\n",
              "3  52  123  29  18\n",
              "4  60  138  33  17"
            ]
          },
          "metadata": {
            "tags": []
          },
          "execution_count": 9
        }
      ]
    },
    {
      "cell_type": "code",
      "metadata": {
        "id": "3jj0hw4sL429"
      },
      "source": [
        "n_rows = df.shape[0] # return number of rows.\r\n",
        "n_cols = df.shape[1] # return number of cols equals to variables."
      ],
      "execution_count": null,
      "outputs": []
    },
    {
      "cell_type": "code",
      "metadata": {
        "colab": {
          "base_uri": "https://localhost:8080/"
        },
        "id": "w4ewk30dO1Ca",
        "outputId": "2ea403fa-3ad4-4457-b001-7478a386e019"
      },
      "source": [
        "print(\"El número de filas es:\", n_rows)\r\n",
        "print(\"El número de variables es:\", n_cols)\r\n",
        "print(\"El número de datos totales son:\", n_rows * n_cols)"
      ],
      "execution_count": null,
      "outputs": [
        {
          "output_type": "stream",
          "text": [
            "El número de filas es: 58\n",
            "El número de variables es: 4\n",
            "El número de datos totales son: 232\n"
          ],
          "name": "stdout"
        }
      ]
    },
    {
      "cell_type": "code",
      "metadata": {
        "colab": {
          "base_uri": "https://localhost:8080/",
          "height": 297
        },
        "id": "Xw1RvYQqO9ka",
        "outputId": "faeba012-3c49-4f46-d941-b4e1d6729050"
      },
      "source": [
        "df[[\"B\", \"Pb\", \"Cu\", \"Zn\"]].describe()"
      ],
      "execution_count": null,
      "outputs": [
        {
          "output_type": "execute_result",
          "data": {
            "text/html": [
              "<div>\n",
              "<style scoped>\n",
              "    .dataframe tbody tr th:only-of-type {\n",
              "        vertical-align: middle;\n",
              "    }\n",
              "\n",
              "    .dataframe tbody tr th {\n",
              "        vertical-align: top;\n",
              "    }\n",
              "\n",
              "    .dataframe thead th {\n",
              "        text-align: right;\n",
              "    }\n",
              "</style>\n",
              "<table border=\"1\" class=\"dataframe\">\n",
              "  <thead>\n",
              "    <tr style=\"text-align: right;\">\n",
              "      <th></th>\n",
              "      <th>B</th>\n",
              "      <th>Pb</th>\n",
              "      <th>Cu</th>\n",
              "      <th>Zn</th>\n",
              "    </tr>\n",
              "  </thead>\n",
              "  <tbody>\n",
              "    <tr>\n",
              "      <th>count</th>\n",
              "      <td>58.000000</td>\n",
              "      <td>58.000000</td>\n",
              "      <td>58.000000</td>\n",
              "      <td>58.000000</td>\n",
              "    </tr>\n",
              "    <tr>\n",
              "      <th>mean</th>\n",
              "      <td>52.103448</td>\n",
              "      <td>108.603448</td>\n",
              "      <td>22.362069</td>\n",
              "      <td>10.689655</td>\n",
              "    </tr>\n",
              "    <tr>\n",
              "      <th>std</th>\n",
              "      <td>10.438945</td>\n",
              "      <td>33.348211</td>\n",
              "      <td>7.173778</td>\n",
              "      <td>5.390723</td>\n",
              "    </tr>\n",
              "    <tr>\n",
              "      <th>min</th>\n",
              "      <td>37.000000</td>\n",
              "      <td>62.000000</td>\n",
              "      <td>12.000000</td>\n",
              "      <td>4.000000</td>\n",
              "    </tr>\n",
              "    <tr>\n",
              "      <th>25%</th>\n",
              "      <td>46.000000</td>\n",
              "      <td>85.000000</td>\n",
              "      <td>17.000000</td>\n",
              "      <td>7.000000</td>\n",
              "    </tr>\n",
              "    <tr>\n",
              "      <th>50%</th>\n",
              "      <td>49.000000</td>\n",
              "      <td>91.000000</td>\n",
              "      <td>19.000000</td>\n",
              "      <td>8.000000</td>\n",
              "    </tr>\n",
              "    <tr>\n",
              "      <th>75%</th>\n",
              "      <td>59.500000</td>\n",
              "      <td>129.750000</td>\n",
              "      <td>28.750000</td>\n",
              "      <td>16.000000</td>\n",
              "    </tr>\n",
              "    <tr>\n",
              "      <th>max</th>\n",
              "      <td>78.000000</td>\n",
              "      <td>178.000000</td>\n",
              "      <td>38.000000</td>\n",
              "      <td>23.000000</td>\n",
              "    </tr>\n",
              "  </tbody>\n",
              "</table>\n",
              "</div>"
            ],
            "text/plain": [
              "               B          Pb         Cu         Zn\n",
              "count  58.000000   58.000000  58.000000  58.000000\n",
              "mean   52.103448  108.603448  22.362069  10.689655\n",
              "std    10.438945   33.348211   7.173778   5.390723\n",
              "min    37.000000   62.000000  12.000000   4.000000\n",
              "25%    46.000000   85.000000  17.000000   7.000000\n",
              "50%    49.000000   91.000000  19.000000   8.000000\n",
              "75%    59.500000  129.750000  28.750000  16.000000\n",
              "max    78.000000  178.000000  38.000000  23.000000"
            ]
          },
          "metadata": {
            "tags": []
          },
          "execution_count": 12
        }
      ]
    },
    {
      "cell_type": "code",
      "metadata": {
        "id": "zuiImfyJQnlT"
      },
      "source": [
        "corr_matrix = df.corr()"
      ],
      "execution_count": null,
      "outputs": []
    },
    {
      "cell_type": "code",
      "metadata": {
        "colab": {
          "base_uri": "https://localhost:8080/"
        },
        "id": "0jqB0pjeQ3S3",
        "outputId": "6ba9e867-c7d3-4545-b053-a1ce154147e7"
      },
      "source": [
        "print(corr_matrix)"
      ],
      "execution_count": null,
      "outputs": [
        {
          "output_type": "stream",
          "text": [
            "           B        Pb        Cu        Zn\n",
            "B   1.000000  0.886737  0.896285  0.804923\n",
            "Pb  0.886737  1.000000  0.921904  0.836626\n",
            "Cu  0.896285  0.921904  1.000000  0.896666\n",
            "Zn  0.804923  0.836626  0.896666  1.000000\n"
          ],
          "name": "stdout"
        }
      ]
    },
    {
      "cell_type": "code",
      "metadata": {
        "colab": {
          "base_uri": "https://localhost:8080/",
          "height": 269
        },
        "id": "JdjaV61uQ5Q6",
        "outputId": "651c17ef-c87a-4d4c-f9ce-eef6cfbb7bcb"
      },
      "source": [
        "sn.heatmap(corr_matrix, annot=True)\r\n",
        "plt.show()"
      ],
      "execution_count": null,
      "outputs": [
        {
          "output_type": "display_data",
          "data": {
            "image/png": "[encoded data removed]",
            "text/plain": [
              "<Figure size 432x288 with 2 Axes>"
            ]
          },
          "metadata": {
            "tags": [],
            "needs_background": "light"
          }
        }
      ]
    },
    {
      "cell_type": "code",
      "metadata": {
        "id": "dwx-D4oZSmxo"
      },
      "source": [
        "\"\"\"\r\n",
        "Normalizo los datos para poder aplicar propiedades de la distribución normal, es muy útil cuando no conozco o tengo datos con diferentes unidades de medida.\r\n",
        "Además, es siempre recomendable para centrar los valores a la media y utilizar las propiedades de la distribución normal\r\n",
        "\"\"\"\r\n",
        "X_std = StandardScaler().fit_transform(df)"
      ],
      "execution_count": null,
      "outputs": []
    },
    {
      "cell_type": "code",
      "metadata": {
        "colab": {
          "base_uri": "https://localhost:8080/"
        },
        "id": "64UzzM1-TNGx",
        "outputId": "aa7b2b38-4475-4b54-8896-9b09ef38c9fd"
      },
      "source": [
        "# Cálculo de autovectores (los que no sufrían modificación de su dirección cuando la matriz sufría una alteración).\r\n",
        "# Cálculo de autovalores (me entregan el valor de la varianza, son el factor de aumento del autovector).\r\n",
        "print(\"Matriz de covarianza: \\n%s\" %np.cov(X_std.T))"
      ],
      "execution_count": null,
      "outputs": [
        {
          "output_type": "stream",
          "text": [
            "Matriz de covarianza: \n",
            "[[1.01754386 0.90229341 0.91200899 0.81904494]\n",
            " [0.90229341 1.01754386 0.93807796 0.85130384]\n",
            " [0.91200899 0.93807796 1.01754386 0.91239719]\n",
            " [0.81904494 0.85130384 0.91239719 1.01754386]]\n"
          ],
          "name": "stdout"
        }
      ]
    },
    {
      "cell_type": "code",
      "metadata": {
        "colab": {
          "base_uri": "https://localhost:8080/"
        },
        "id": "ge8g6H0QTVl0",
        "outputId": "d40c26a7-86a6-44b4-8236-b0898d1bec38"
      },
      "source": [
        "# Obtenemos los autovalores y autovectores de la matriz\r\n",
        "\r\n",
        "cov_matrix = np.cov(X_std.T)\r\n",
        "\r\n",
        "eig_values, eig_vecs = np.linalg.eig(cov_matrix)\r\n",
        "\r\n",
        "print(\"Autovectores \\n%s\" %eig_vecs)\r\n",
        "print(\"Autovalores \\n%s\" %eig_values)"
      ],
      "execution_count": null,
      "outputs": [
        {
          "output_type": "stream",
          "text": [
            "Autovectores \n",
            "[[ 0.49526228  0.55666133 -0.64572716 -0.16697269]\n",
            " [ 0.50341516  0.27047556  0.72073854 -0.3923673 ]\n",
            " [ 0.51301424 -0.05771914  0.12461424  0.84732295]\n",
            " [ 0.48795987 -0.78335154 -0.21918869 -0.31656254]]\n",
            "Autovalores \n",
            "[3.68635773 0.20880766 0.11245329 0.06255676]\n"
          ],
          "name": "stdout"
        }
      ]
    },
    {
      "cell_type": "code",
      "metadata": {
        "id": "Qw3m7ng1UBiX"
      },
      "source": [
        "# Emparejamos cada autovector con su autovalor\r\n",
        "eig_pairs = [(np.abs(eig_values[i]), eig_vecs[:, i]) for i in range(len(eig_values))]"
      ],
      "execution_count": null,
      "outputs": []
    },
    {
      "cell_type": "code",
      "metadata": {
        "id": "Zd9x5IRCVBhg"
      },
      "source": [
        "# Ordenamos las parejas de forma descendiente\r\n",
        "eig_pairs.sort(key=lambda x: x[0], reverse=True)"
      ],
      "execution_count": null,
      "outputs": []
    },
    {
      "cell_type": "code",
      "metadata": {
        "colab": {
          "base_uri": "https://localhost:8080/"
        },
        "id": "DpjKmr9bVFZj",
        "outputId": "95662727-4bf3-4b76-e2a5-d340a9f5ebfd"
      },
      "source": [
        "# Visualización de la lista de los autovalores obtenidos en orden descendiente\r\n",
        "print(\"Autovalores descendentes:\")\r\n",
        "for i in eig_pairs:\r\n",
        "  print(i[0])"
      ],
      "execution_count": null,
      "outputs": [
        {
          "output_type": "stream",
          "text": [
            "Autovalores descendentes:\n",
            "3.6863577270679726\n",
            "0.20880765725498807\n",
            "0.11245329486419325\n",
            "0.06255675940933636\n"
          ],
          "name": "stdout"
        }
      ]
    },
    {
      "cell_type": "code",
      "metadata": {
        "id": "BOm_Kn9JVarQ"
      },
      "source": [
        "# A partir de los autovaloes se calcula la varianza explicada o que justifica cada variable\r\n",
        "total = sum(eig_values)\r\n",
        "var_explained = [( i / total) * 100 for i in sorted(eig_values, reverse=True)]\r\n",
        "\r\n",
        "cum_var_explained = np.cumsum(var_explained)"
      ],
      "execution_count": null,
      "outputs": []
    },
    {
      "cell_type": "code",
      "metadata": {
        "colab": {
          "base_uri": "https://localhost:8080/",
          "height": 297
        },
        "id": "IvRpt6-tV9M-",
        "outputId": "8eff98c0-5c64-479c-84e4-d8abad2c5042"
      },
      "source": [
        "# Representación gráfica en un gráfico de barras de la varianza explicada por cada autovalor y la acumulada\r\n",
        "with plt.style.context('seaborn-pastel'):\r\n",
        "  plt.figure(figsize=(6, 4))\r\n",
        "\r\n",
        "  plt.bar(range(4), var_explained, alpha=0.5, align='center', label='Varianza individual explicada', color='b')\r\n",
        "\r\n",
        "  plt.step(range(4), cum_var_explained, where='mid', linestyle='--', label='Varianza explicada acumulada')\r\n",
        "  plt.ylabel('Ratio de varianza explicada')\r\n",
        "  plt.xlabel('Componentes principales')\r\n",
        "  plt.legend(loc='best')\r\n",
        "  plt.tight_layout()"
      ],
      "execution_count": null,
      "outputs": [
        {
          "output_type": "display_data",
          "data": {
            "image/png": "[encoded data removed]",
            "text/plain": [
              "<Figure size 432x288 with 1 Axes>"
            ]
          },
          "metadata": {
            "tags": [],
            "needs_background": "light"
          }
        }
      ]
    },
    {
      "cell_type": "code",
      "metadata": {
        "colab": {
          "base_uri": "https://localhost:8080/"
        },
        "id": "zDJKKC43WD_a",
        "outputId": "24787e48-aec4-434e-b2d5-2d868d333c13"
      },
      "source": [
        "print(var_explained)"
      ],
      "execution_count": null,
      "outputs": [
        {
          "output_type": "stream",
          "text": [
            "[90.56999588054936, 5.13018813083376, 2.7628611238185425, 1.5369548647983506]\n"
          ],
          "name": "stdout"
        }
      ]
    },
    {
      "cell_type": "code",
      "metadata": {
        "id": "mVV51zB2dbik"
      },
      "source": [
        "pca = PCA(n_components=2)\r\n",
        "principal_components = pca.fit_transform(X_std)\r\n",
        "principal_df = pd.DataFrame(data=principal_components, columns = ['PC1', 'PC2'])"
      ],
      "execution_count": null,
      "outputs": []
    },
    {
      "cell_type": "code",
      "metadata": {
        "colab": {
          "base_uri": "https://localhost:8080/",
          "height": 1000
        },
        "id": "nwP_S99Qd4Bt",
        "outputId": "9f25e914-212d-4bdd-be7d-89a616f6b15a"
      },
      "source": [
        "principal_df"
      ],
      "execution_count": null,
      "outputs": [
        {
          "output_type": "execute_result",
          "data": {
            "text/html": [
              "<div>\n",
              "<style scoped>\n",
              "    .dataframe tbody tr th:only-of-type {\n",
              "        vertical-align: middle;\n",
              "    }\n",
              "\n",
              "    .dataframe tbody tr th {\n",
              "        vertical-align: top;\n",
              "    }\n",
              "\n",
              "    .dataframe thead th {\n",
              "        text-align: right;\n",
              "    }\n",
              "</style>\n",
              "<table border=\"1\" class=\"dataframe\">\n",
              "  <thead>\n",
              "    <tr style=\"text-align: right;\">\n",
              "      <th></th>\n",
              "      <th>PC1</th>\n",
              "      <th>PC2</th>\n",
              "    </tr>\n",
              "  </thead>\n",
              "  <tbody>\n",
              "    <tr>\n",
              "      <th>0</th>\n",
              "      <td>1.340099</td>\n",
              "      <td>0.323880</td>\n",
              "    </tr>\n",
              "    <tr>\n",
              "      <th>1</th>\n",
              "      <td>1.262023</td>\n",
              "      <td>0.972456</td>\n",
              "    </tr>\n",
              "    <tr>\n",
              "      <th>2</th>\n",
              "      <td>1.542770</td>\n",
              "      <td>1.707216</td>\n",
              "    </tr>\n",
              "    <tr>\n",
              "      <th>3</th>\n",
              "      <td>1.360614</td>\n",
              "      <td>1.013233</td>\n",
              "    </tr>\n",
              "    <tr>\n",
              "      <th>4</th>\n",
              "      <td>2.169131</td>\n",
              "      <td>0.346061</td>\n",
              "    </tr>\n",
              "    <tr>\n",
              "      <th>5</th>\n",
              "      <td>1.612663</td>\n",
              "      <td>0.382593</td>\n",
              "    </tr>\n",
              "    <tr>\n",
              "      <th>6</th>\n",
              "      <td>1.574206</td>\n",
              "      <td>0.693549</td>\n",
              "    </tr>\n",
              "    <tr>\n",
              "      <th>7</th>\n",
              "      <td>2.321001</td>\n",
              "      <td>0.272844</td>\n",
              "    </tr>\n",
              "    <tr>\n",
              "      <th>8</th>\n",
              "      <td>1.735883</td>\n",
              "      <td>0.672353</td>\n",
              "    </tr>\n",
              "    <tr>\n",
              "      <th>9</th>\n",
              "      <td>1.566337</td>\n",
              "      <td>0.033859</td>\n",
              "    </tr>\n",
              "    <tr>\n",
              "      <th>10</th>\n",
              "      <td>1.312519</td>\n",
              "      <td>0.488602</td>\n",
              "    </tr>\n",
              "    <tr>\n",
              "      <th>11</th>\n",
              "      <td>-1.312545</td>\n",
              "      <td>0.080230</td>\n",
              "    </tr>\n",
              "    <tr>\n",
              "      <th>12</th>\n",
              "      <td>-1.253404</td>\n",
              "      <td>-0.128392</td>\n",
              "    </tr>\n",
              "    <tr>\n",
              "      <th>13</th>\n",
              "      <td>-1.668086</td>\n",
              "      <td>-0.259284</td>\n",
              "    </tr>\n",
              "    <tr>\n",
              "      <th>14</th>\n",
              "      <td>-1.230894</td>\n",
              "      <td>-0.242381</td>\n",
              "    </tr>\n",
              "    <tr>\n",
              "      <th>15</th>\n",
              "      <td>-1.552129</td>\n",
              "      <td>-0.033563</td>\n",
              "    </tr>\n",
              "    <tr>\n",
              "      <th>16</th>\n",
              "      <td>-1.235357</td>\n",
              "      <td>0.010913</td>\n",
              "    </tr>\n",
              "    <tr>\n",
              "      <th>17</th>\n",
              "      <td>-1.954109</td>\n",
              "      <td>0.062626</td>\n",
              "    </tr>\n",
              "    <tr>\n",
              "      <th>18</th>\n",
              "      <td>-1.553898</td>\n",
              "      <td>-0.209459</td>\n",
              "    </tr>\n",
              "    <tr>\n",
              "      <th>19</th>\n",
              "      <td>-0.725622</td>\n",
              "      <td>-0.169211</td>\n",
              "    </tr>\n",
              "    <tr>\n",
              "      <th>20</th>\n",
              "      <td>-1.451362</td>\n",
              "      <td>-0.022033</td>\n",
              "    </tr>\n",
              "    <tr>\n",
              "      <th>21</th>\n",
              "      <td>-0.944208</td>\n",
              "      <td>-0.164312</td>\n",
              "    </tr>\n",
              "    <tr>\n",
              "      <th>22</th>\n",
              "      <td>-1.447362</td>\n",
              "      <td>-0.071056</td>\n",
              "    </tr>\n",
              "    <tr>\n",
              "      <th>23</th>\n",
              "      <td>-1.423782</td>\n",
              "      <td>-0.186755</td>\n",
              "    </tr>\n",
              "    <tr>\n",
              "      <th>24</th>\n",
              "      <td>-1.236057</td>\n",
              "      <td>0.029852</td>\n",
              "    </tr>\n",
              "    <tr>\n",
              "      <th>25</th>\n",
              "      <td>-1.098659</td>\n",
              "      <td>-0.053251</td>\n",
              "    </tr>\n",
              "    <tr>\n",
              "      <th>26</th>\n",
              "      <td>-1.754438</td>\n",
              "      <td>0.131290</td>\n",
              "    </tr>\n",
              "    <tr>\n",
              "      <th>27</th>\n",
              "      <td>-1.061328</td>\n",
              "      <td>0.029722</td>\n",
              "    </tr>\n",
              "    <tr>\n",
              "      <th>28</th>\n",
              "      <td>-1.181323</td>\n",
              "      <td>0.075397</td>\n",
              "    </tr>\n",
              "    <tr>\n",
              "      <th>29</th>\n",
              "      <td>-2.034192</td>\n",
              "      <td>-0.043116</td>\n",
              "    </tr>\n",
              "    <tr>\n",
              "      <th>30</th>\n",
              "      <td>-2.100502</td>\n",
              "      <td>-0.316578</td>\n",
              "    </tr>\n",
              "    <tr>\n",
              "      <th>31</th>\n",
              "      <td>-1.663679</td>\n",
              "      <td>-0.316905</td>\n",
              "    </tr>\n",
              "    <tr>\n",
              "      <th>32</th>\n",
              "      <td>-1.825413</td>\n",
              "      <td>-0.100036</td>\n",
              "    </tr>\n",
              "    <tr>\n",
              "      <th>33</th>\n",
              "      <td>-2.283989</td>\n",
              "      <td>-0.003788</td>\n",
              "    </tr>\n",
              "    <tr>\n",
              "      <th>34</th>\n",
              "      <td>-2.006668</td>\n",
              "      <td>-0.012165</td>\n",
              "    </tr>\n",
              "    <tr>\n",
              "      <th>35</th>\n",
              "      <td>-1.757626</td>\n",
              "      <td>-0.033426</td>\n",
              "    </tr>\n",
              "    <tr>\n",
              "      <th>36</th>\n",
              "      <td>-1.146461</td>\n",
              "      <td>-0.195133</td>\n",
              "    </tr>\n",
              "    <tr>\n",
              "      <th>37</th>\n",
              "      <td>-1.733754</td>\n",
              "      <td>0.233624</td>\n",
              "    </tr>\n",
              "    <tr>\n",
              "      <th>38</th>\n",
              "      <td>-1.092427</td>\n",
              "      <td>-0.327194</td>\n",
              "    </tr>\n",
              "    <tr>\n",
              "      <th>39</th>\n",
              "      <td>-0.952560</td>\n",
              "      <td>-0.056795</td>\n",
              "    </tr>\n",
              "    <tr>\n",
              "      <th>40</th>\n",
              "      <td>-1.037693</td>\n",
              "      <td>-0.281650</td>\n",
              "    </tr>\n",
              "    <tr>\n",
              "      <th>41</th>\n",
              "      <td>-1.201195</td>\n",
              "      <td>-0.240677</td>\n",
              "    </tr>\n",
              "    <tr>\n",
              "      <th>42</th>\n",
              "      <td>-0.904702</td>\n",
              "      <td>-0.110587</td>\n",
              "    </tr>\n",
              "    <tr>\n",
              "      <th>43</th>\n",
              "      <td>3.677304</td>\n",
              "      <td>-0.680264</td>\n",
              "    </tr>\n",
              "    <tr>\n",
              "      <th>44</th>\n",
              "      <td>3.865029</td>\n",
              "      <td>-0.463656</td>\n",
              "    </tr>\n",
              "    <tr>\n",
              "      <th>45</th>\n",
              "      <td>2.618213</td>\n",
              "      <td>0.410694</td>\n",
              "    </tr>\n",
              "    <tr>\n",
              "      <th>46</th>\n",
              "      <td>2.892941</td>\n",
              "      <td>-0.920952</td>\n",
              "    </tr>\n",
              "    <tr>\n",
              "      <th>47</th>\n",
              "      <td>2.644893</td>\n",
              "      <td>-0.339337</td>\n",
              "    </tr>\n",
              "    <tr>\n",
              "      <th>48</th>\n",
              "      <td>3.846350</td>\n",
              "      <td>0.384873</td>\n",
              "    </tr>\n",
              "    <tr>\n",
              "      <th>49</th>\n",
              "      <td>2.945537</td>\n",
              "      <td>-0.871988</td>\n",
              "    </tr>\n",
              "    <tr>\n",
              "      <th>50</th>\n",
              "      <td>2.695039</td>\n",
              "      <td>-0.813720</td>\n",
              "    </tr>\n",
              "    <tr>\n",
              "      <th>51</th>\n",
              "      <td>3.120060</td>\n",
              "      <td>-0.062728</td>\n",
              "    </tr>\n",
              "    <tr>\n",
              "      <th>52</th>\n",
              "      <td>2.091469</td>\n",
              "      <td>-0.741464</td>\n",
              "    </tr>\n",
              "    <tr>\n",
              "      <th>53</th>\n",
              "      <td>2.723613</td>\n",
              "      <td>-0.614633</td>\n",
              "    </tr>\n",
              "    <tr>\n",
              "      <th>54</th>\n",
              "      <td>-1.680532</td>\n",
              "      <td>0.315302</td>\n",
              "    </tr>\n",
              "    <tr>\n",
              "      <th>55</th>\n",
              "      <td>-1.055208</td>\n",
              "      <td>0.147124</td>\n",
              "    </tr>\n",
              "    <tr>\n",
              "      <th>56</th>\n",
              "      <td>-1.137872</td>\n",
              "      <td>0.275772</td>\n",
              "    </tr>\n",
              "    <tr>\n",
              "      <th>57</th>\n",
              "      <td>-1.218654</td>\n",
              "      <td>-0.007576</td>\n",
              "    </tr>\n",
              "  </tbody>\n",
              "</table>\n",
              "</div>"
            ],
            "text/plain": [
              "         PC1       PC2\n",
              "0   1.340099  0.323880\n",
              "1   1.262023  0.972456\n",
              "2   1.542770  1.707216\n",
              "3   1.360614  1.013233\n",
              "4   2.169131  0.346061\n",
              "5   1.612663  0.382593\n",
              "6   1.574206  0.693549\n",
              "7   2.321001  0.272844\n",
              "8   1.735883  0.672353\n",
              "9   1.566337  0.033859\n",
              "10  1.312519  0.488602\n",
              "11 -1.312545  0.080230\n",
              "12 -1.253404 -0.128392\n",
              "13 -1.668086 -0.259284\n",
              "14 -1.230894 -0.242381\n",
              "15 -1.552129 -0.033563\n",
              "16 -1.235357  0.010913\n",
              "17 -1.954109  0.062626\n",
              "18 -1.553898 -0.209459\n",
              "19 -0.725622 -0.169211\n",
              "20 -1.451362 -0.022033\n",
              "21 -0.944208 -0.164312\n",
              "22 -1.447362 -0.071056\n",
              "23 -1.423782 -0.186755\n",
              "24 -1.236057  0.029852\n",
              "25 -1.098659 -0.053251\n",
              "26 -1.754438  0.131290\n",
              "27 -1.061328  0.029722\n",
              "28 -1.181323  0.075397\n",
              "29 -2.034192 -0.043116\n",
              "30 -2.100502 -0.316578\n",
              "31 -1.663679 -0.316905\n",
              "32 -1.825413 -0.100036\n",
              "33 -2.283989 -0.003788\n",
              "34 -2.006668 -0.012165\n",
              "35 -1.757626 -0.033426\n",
              "36 -1.146461 -0.195133\n",
              "37 -1.733754  0.233624\n",
              "38 -1.092427 -0.327194\n",
              "39 -0.952560 -0.056795\n",
              "40 -1.037693 -0.281650\n",
              "41 -1.201195 -0.240677\n",
              "42 -0.904702 -0.110587\n",
              "43  3.677304 -0.680264\n",
              "44  3.865029 -0.463656\n",
              "45  2.618213  0.410694\n",
              "46  2.892941 -0.920952\n",
              "47  2.644893 -0.339337\n",
              "48  3.846350  0.384873\n",
              "49  2.945537 -0.871988\n",
              "50  2.695039 -0.813720\n",
              "51  3.120060 -0.062728\n",
              "52  2.091469 -0.741464\n",
              "53  2.723613 -0.614633\n",
              "54 -1.680532  0.315302\n",
              "55 -1.055208  0.147124\n",
              "56 -1.137872  0.275772\n",
              "57 -1.218654 -0.007576"
            ]
          },
          "metadata": {
            "tags": []
          },
          "execution_count": 26
        }
      ]
    },
    {
      "cell_type": "code",
      "metadata": {
        "colab": {
          "base_uri": "https://localhost:8080/",
          "height": 295
        },
        "id": "1MQUxz-SeQN4",
        "outputId": "1d093b39-71b6-4c86-cb29-29d9390df0f6"
      },
      "source": [
        "plt.scatter(principal_df.PC1, principal_df.PC2)\r\n",
        "plt.title('PC1 v/s PC2')\r\n",
        "plt.xlabel('PC1')\r\n",
        "plt.ylabel('PC2')\r\n",
        "plt.show()"
      ],
      "execution_count": null,
      "outputs": [
        {
          "output_type": "display_data",
          "data": {
            "image/png": "[encoded data removed]",
            "text/plain": [
              "<Figure size 432x288 with 1 Axes>"
            ]
          },
          "metadata": {
            "tags": [],
            "needs_background": "light"
          }
        }
      ]
    },
    {
      "cell_type": "code",
      "metadata": {
        "colab": {
          "base_uri": "https://localhost:8080/"
        },
        "id": "ysRWxOueeghk",
        "outputId": "c713ad1c-7bfe-4325-c112-575fe3e6f2a6"
      },
      "source": [
        "pca.explained_variance_ratio_"
      ],
      "execution_count": null,
      "outputs": [
        {
          "output_type": "execute_result",
          "data": {
            "text/plain": [
              "array([0.90569996, 0.05130188])"
            ]
          },
          "metadata": {
            "tags": []
          },
          "execution_count": 28
        }
      ]
    },
    {
      "cell_type": "code",
      "metadata": {
        "colab": {
          "base_uri": "https://localhost:8080/"
        },
        "id": "8ub_lMDRewrD",
        "outputId": "8ca513f1-7548-412d-89da-7cceb8cb803b"
      },
      "source": [
        "print(pca.explained_variance_)"
      ],
      "execution_count": null,
      "outputs": [
        {
          "output_type": "stream",
          "text": [
            "[3.68635773 0.20880766]\n"
          ],
          "name": "stdout"
        }
      ]
    },
    {
      "cell_type": "code",
      "metadata": {
        "colab": {
          "base_uri": "https://localhost:8080/"
        },
        "id": "EF-lv0z3e6ah",
        "outputId": "2d747dce-f777-43f3-eaba-d6fc28e779d9"
      },
      "source": [
        "print(pca.components_.T)"
      ],
      "execution_count": null,
      "outputs": [
        {
          "output_type": "stream",
          "text": [
            "[[ 0.49526228 -0.55666133]\n",
            " [ 0.50341516 -0.27047556]\n",
            " [ 0.51301424  0.05771914]\n",
            " [ 0.48795987  0.78335154]]\n"
          ],
          "name": "stdout"
        }
      ]
    },
    {
      "cell_type": "code",
      "metadata": {
        "id": "I1pWlIRRfPzT"
      },
      "source": [
        "X_pca = pca.transform(X_std)"
      ],
      "execution_count": null,
      "outputs": []
    },
    {
      "cell_type": "code",
      "metadata": {
        "colab": {
          "base_uri": "https://localhost:8080/",
          "height": 265
        },
        "id": "avWahJzZfjTT",
        "outputId": "3ef00c72-73a2-4bf0-f022-6514993a16e7"
      },
      "source": [
        "X_new = pca.inverse_transform(X_pca)\r\n",
        "plt.scatter(X_std[:, 0], X_std[:, 1], alpha=0.2)\r\n",
        "plt.scatter(X_new[:, 0], X_new[:, 1], alpha=0.8)\r\n",
        "plt.axis('equal');"
      ],
      "execution_count": null,
      "outputs": [
        {
          "output_type": "display_data",
          "data": {
            "image/png": "[encoded data removed]",
            "text/plain": [
              "<Figure size 432x288 with 1 Axes>"
            ]
          },
          "metadata": {
            "tags": [],
            "needs_background": "light"
          }
        }
      ]
    },
    {
      "cell_type": "code",
      "metadata": {
        "colab": {
          "base_uri": "https://localhost:8080/",
          "height": 17
        },
        "id": "mdxwW_71f9kw",
        "outputId": "a98fda69-f84e-4166-fd67-e322798e2a42"
      },
      "source": [
        "from google.colab import files\r\n",
        "principal_df.to_excel('PCA_python.xlsx')\r\n",
        "files.download('PCA_python.xlsx')"
      ],
      "execution_count": null,
      "outputs": [
        {
          "output_type": "display_data",
          "data": {
            "application/javascript": [
              "\n",
              "    async function download(id, filename, size) {\n",
              "      if (!google.colab.kernel.accessAllowed) {\n",
              "        return;\n",
              "      }\n",
              "      const div = document.createElement('div');\n",
              "      const label = document.createElement('label');\n",
              "      label.textContent = `Downloading \"${filename}\": `;\n",
              "      div.appendChild(label);\n",
              "      const progress = document.createElement('progress');\n",
              "      progress.max = size;\n",
              "      div.appendChild(progress);\n",
              "      document.body.appendChild(div);\n",
              "\n",
              "      const buffers = [];\n",
              "      let downloaded = 0;\n",
              "\n",
              "      const channel = await google.colab.kernel.comms.open(id);\n",
              "      // Send a message to notify the kernel that we're ready.\n",
              "      channel.send({})\n",
              "\n",
              "      for await (const message of channel.messages) {\n",
              "        // Send a message to notify the kernel that we're ready.\n",
              "        channel.send({})\n",
              "        if (message.buffers) {\n",
              "          for (const buffer of message.buffers) {\n",
              "            buffers.push(buffer);\n",
              "            downloaded += buffer.byteLength;\n",
              "            progress.value = downloaded;\n",
              "          }\n",
              "        }\n",
              "      }\n",
              "      const blob = new Blob(buffers, {type: 'application/binary'});\n",
              "      const a = document.createElement('a');\n",
              "      a.href = window.URL.createObjectURL(blob);\n",
              "      a.download = filename;\n",
              "      div.appendChild(a);\n",
              "      a.click();\n",
              "      div.remove();\n",
              "    }\n",
              "  "
            ],
            "text/plain": [
              "<IPython.core.display.Javascript object>"
            ]
          },
          "metadata": {
            "tags": []
          }
        },
        {
          "output_type": "display_data",
          "data": {
            "application/javascript": [
              "download(\"download_640c04ee-7f5d-4683-9dba-54fd9423b275\", \"PCA_python.xlsx\", 7069)"
            ],
            "text/plain": [
              "<IPython.core.display.Javascript object>"
            ]
          },
          "metadata": {
            "tags": []
          }
        }
      ]
    },
    {
      "cell_type": "code",
      "metadata": {
        "id": "yRJL27xegsZK",
        "colab": {
          "base_uri": "https://localhost:8080/",
          "height": 280
        },
        "outputId": "d7d187a5-a193-4b33-96c9-32f45d6ece7b"
      },
      "source": [
        "pca = PCA().fit(X_std)\r\n",
        "plt.plot(np.cumsum(pca.explained_variance_ratio_))\r\n",
        "plt.xlabel('Número de componentes')\r\n",
        "plt.ylabel('Varianza explicativa acumulada');"
      ],
      "execution_count": null,
      "outputs": [
        {
          "output_type": "display_data",
          "data": {
            "image/png": "[encoded data removed]",
            "text/plain": [
              "<Figure size 432x288 with 1 Axes>"
            ]
          },
          "metadata": {
            "tags": [],
            "needs_background": "light"
          }
        }
      ]
    },
    {
      "cell_type": "code",
      "metadata": {
        "id": "cM0u-5bUxKFl"
      },
      "source": [
        ""
      ],
      "execution_count": null,
      "outputs": []
    }
  ]
}